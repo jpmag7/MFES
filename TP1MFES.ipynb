{
  "nbformat": 4,
  "nbformat_minor": 0,
  "metadata": {
    "colab": {
      "provenance": [],
      "collapsed_sections": []
    },
    "kernelspec": {
      "name": "python3",
      "display_name": "Python 3"
    },
    "language_info": {
      "name": "python"
    }
  },
  "cells": [
    {
      "cell_type": "markdown",
      "source": [
        "Nome: José Pedro Martins Magalhães\n",
        "\n",
        "Número: pg50528\n",
        "\n",
        "Curso: Mestrado em Engenharia Informática\n",
        "\n",
        "Link: https://colab.research.google.com/drive/1GM9-2h_ZBnqm_jRYqCdK91Hsq3u6_jyr?usp=sharing"
      ],
      "metadata": {
        "id": "mpRd0hXN1Tm0"
      }
    },
    {
      "cell_type": "code",
      "source": [
        "!pip install python-sat[pblib,aiger]"
      ],
      "metadata": {
        "id": "kWdcQ0jtFFvc"
      },
      "execution_count": null,
      "outputs": []
    },
    {
      "cell_type": "code",
      "source": [
        "from pysat.solvers import Minisat22\n",
        "\n",
        "def sat(listas):\n",
        "  s = Minisat22()\n",
        "\n",
        "  for lista in listas:\n",
        "    s.add_clause(lista)\n",
        "\n",
        "  if s.solve():\n",
        "      print(\"SAT\")\n",
        "      print(s.get_model())\n",
        "  else:\n",
        "      print(\"UNSAT\")\n",
        "\n",
        "  s.delete()"
      ],
      "metadata": {
        "id": "U0OJeZEfjGc-"
      },
      "execution_count": 2,
      "outputs": []
    },
    {
      "cell_type": "markdown",
      "source": [
        "# Variáveis do problema\n",
        "\n",
        "1 - MB1\n",
        "\n",
        "2 - MB2\n",
        "\n",
        "3 - CPU1\n",
        "\n",
        "4 - CPU2\n",
        "\n",
        "5 - RAM1\n",
        "\n",
        "6 - RAM2\n",
        "\n",
        "7 - PG1\n",
        "\n",
        "8 - PG2\n",
        "\n",
        "9 - PG3\n",
        "\n",
        "10 - MON1\n",
        "\n",
        "11 - MON2\n",
        "\n",
        "12 - MON3"
      ],
      "metadata": {
        "id": "t3YHyIoN1-Gj"
      }
    },
    {
      "cell_type": "markdown",
      "source": [
        "#  Fórmulas proposicionais"
      ],
      "metadata": {
        "id": "ox3jdO4d6Re-"
      }
    },
    {
      "cell_type": "markdown",
      "source": [
        "• A motherboard MB1 quando combinada com a placa gráfica PG1, obriga à utilização\n",
        "da RAM1.\n",
        "```\n",
        " (MB1 ∧ PG1) → RAM1 ≡ \n",
        " ≡ ¬(MB1 ∧ PG1) ∨ RAM1 ≡\n",
        " ≡ ¬MB1 ∨ ¬PG1 ∨ RAM1\n",
        "```\n",
        "```\n",
        "-1 -7 5 0\n",
        "```"
      ],
      "metadata": {
        "id": "WjhICoCj6WHe"
      }
    },
    {
      "cell_type": "markdown",
      "source": [
        "• A placa gráfica PG1 precisa do CPU1, excepto quando combinada com uma memória\n",
        "RAM2.\n",
        "```\n",
        "(PG1 ∧ ¬RAM2) → CPU1 ≡\n",
        "≡ ¬(PG1 ∧ ¬RAM2) ∨ CPU1 ≡\n",
        "≡ ¬PG1 ∨ RAM2 ∨ CPU1\n",
        "```\n",
        "```\n",
        "-7 6 3 0\n",
        "```"
      ],
      "metadata": {
        "id": "eZMSnVmm6Zk2"
      }
    },
    {
      "cell_type": "markdown",
      "source": [
        "• O CPU2 só pode ser instalado na motherboard MB2.\n",
        "```\n",
        "CPU2 → MB2 ≡\n",
        "≡ ¬CPU2 ∨ MB2\n",
        "```\n",
        "```\n",
        "-4 2 0\n",
        "```"
      ],
      "metadata": {
        "id": "d_OICK3H6cBT"
      }
    },
    {
      "cell_type": "markdown",
      "source": [
        "• O monitor MON1 para poder funcionar precisa da placa gráfica PG1 e da memória RAM2.\n",
        "\n",
        "```\n",
        "MON1 → (PG1 ∧ RAM2) ≡\n",
        "≡ ¬MON1 ∨ (PG1 ∧ RAM2) ≡\n",
        "≡ (¬MON1 ∨ PG1) ∧ (¬MON1 ∨ RAM2)\n",
        "```\n",
        "```\n",
        "-10 7 0\n",
        "-10 6 0\n",
        "```"
      ],
      "metadata": {
        "id": "VrewkQZS6eS3"
      }
    },
    {
      "cell_type": "markdown",
      "source": [
        "• O monitor MON2 precisa da memória RAM2 para poder trabalhar com a placa gráfica\n",
        "PG3.\n",
        "```\n",
        "(MON2 ∧ PG3) → RAM2 ≡\n",
        "≡ ¬(MON2 ∧ PG3) ∨ RAM2 ≡\n",
        "≡ ¬MON2 ∨ ¬PG3 ∨ RAM2\n",
        "```\n",
        "```\n",
        "-11 -9 6 0\n",
        "```"
      ],
      "metadata": {
        "id": "Ep_8Ov-56gjI"
      }
    },
    {
      "cell_type": "markdown",
      "source": [
        "• Apenas um CPU.\n",
        "\n",
        "```\n",
        "(CPU1 ∧ ¬CPU2) ∨ (¬CPU1 ∧ CPU2) ≡\n",
        "≡ (CPU1 ∨ CPU2) ∧ (¬CPU1 ∨ ¬CPU2)\n",
        "```\n",
        "```\n",
        "3 4 0\n",
        "-3 -4 0\n",
        "```"
      ],
      "metadata": {
        "id": "4SgwE6Ph7set"
      }
    },
    {
      "cell_type": "markdown",
      "source": [
        "• Apenas uma RAM.\n",
        "\n",
        "```\n",
        "(RAM1 ∧ ¬RAM2) ∨ (¬RAM1 ∧ RAM2) ≡\n",
        "≡ (RAM1 ∨ RAM2) ∧ (¬RAM1 ∨ ¬RAM2)\n",
        "```\n",
        "```\n",
        "5 6 0\n",
        "-5 -6 0\n",
        "```"
      ],
      "metadata": {
        "id": "f-6Z21OW9gX1"
      }
    },
    {
      "cell_type": "markdown",
      "source": [
        "• Apenas uma MB.\n",
        "\n",
        "```\n",
        "(MB1 ∧ ¬MB2) ∨ (¬MB1 ∧ MB2) ≡\n",
        "≡ (MB1 ∨ MB2) ∧ (¬MB1 ∨ ¬MB2)\n",
        "```\n",
        "```\n",
        "1 2 0\n",
        "-1 -2 0\n",
        "```"
      ],
      "metadata": {
        "id": "Emt7ET6OA1e2"
      }
    },
    {
      "cell_type": "markdown",
      "source": [
        "• Apenas uma PG.\n",
        "\n",
        "```\n",
        "(PG1 ∧ ¬PG2 ∧ ¬PG3) ∨ (¬PG1 ∧ PG2 ∧ ¬PG3) ∨ (¬PG1 ∧ ¬PG2 ∧ PG3) ≡\n",
        "≡ (¬PG1 ∨ ¬PG2) ∧ (¬PG1 ∨ ¬PG3) ∧ (¬PG3 ∨ ¬PG2) ∧ (PG2 ∨ PG1 ∨ PG3)\n",
        "```\n",
        "```\n",
        "-7 -8 0\n",
        "-7 -9 0\n",
        "-9 -8 0\n",
        "8 7 9 0\n",
        "```"
      ],
      "metadata": {
        "id": "etaNq0EzBAu0"
      }
    },
    {
      "cell_type": "code",
      "source": [
        "formulas = [\n",
        "    [-1, -7, 5],\n",
        "    [-7, 6, 3],\n",
        "    [-4, 2],\n",
        "    [-10, 7],\n",
        "    [-10, 6],\n",
        "    [-11, -9, 6],\n",
        "    [3, 4],\n",
        "    [-3, -4],\n",
        "    [5, 6],\n",
        "    [-5, -6],\n",
        "    [1, 2],\n",
        "    [-1, -2],\n",
        "    [-7, -8],\n",
        "    [-7, -9],\n",
        "    [-9, -8],\n",
        "    [8, 7, 9]\n",
        "]"
      ],
      "metadata": {
        "id": "FCxs8pDgjkLJ"
      },
      "execution_count": 6,
      "outputs": []
    },
    {
      "cell_type": "markdown",
      "source": [
        "# Questões"
      ],
      "metadata": {
        "id": "ZWM0R5bCeRsW"
      }
    },
    {
      "cell_type": "markdown",
      "source": [
        "(a) O monitor MON1 só poderá ser usado com uma motherboard MB1?\n",
        "\n",
        "```\n",
        "MON1 → MB1 ≡\n",
        "≡ ¬MON1 ∨ MB1 ≡\n",
        "≡ ¬(¬MON1 ∨ MB1) ≡\n",
        "≡ MON1 ∧ ¬MB1\n",
        "```\n",
        "```\n",
        "10 0\n",
        "-1 0\n",
        "```"
      ],
      "metadata": {
        "id": "TQMgcFm3kq_e"
      }
    },
    {
      "cell_type": "code",
      "source": [
        "sat(formulas + [[10], [-1]])"
      ],
      "metadata": {
        "colab": {
          "base_uri": "https://localhost:8080/"
        },
        "id": "n2cg33fHlS5r",
        "outputId": "fcc5c55a-4901-4fef-b1ad-846f52fc7ad0"
      },
      "execution_count": 7,
      "outputs": [
        {
          "output_type": "stream",
          "name": "stdout",
          "text": [
            "SAT\n",
            "[-1, 2, 3, -4, -5, 6, 7, -8, -9, 10, -11]\n"
          ]
        }
      ]
    },
    {
      "cell_type": "markdown",
      "source": [
        "Resposta: Não"
      ],
      "metadata": {
        "id": "kfL8EwXFFQ7t"
      }
    },
    {
      "cell_type": "markdown",
      "source": [
        "(b) Um cliente pode personalizar o seu computador da seguinte forma: uma motherboard MB1, o CPU1, a placa gráfica PG2 e a memória RAM1?\n",
        "\n",
        "```\n",
        "MB1 ∧ CPU1 ∧ PG2 ∧ RAM1\n",
        "```\n",
        "```\n",
        "1 0\n",
        "3 0\n",
        "8 0\n",
        "5 0\n",
        "```"
      ],
      "metadata": {
        "id": "NfEu866_zEjs"
      }
    },
    {
      "cell_type": "code",
      "source": [
        "sat(formulas + [[1], [3], [8], [5]])"
      ],
      "metadata": {
        "colab": {
          "base_uri": "https://localhost:8080/"
        },
        "id": "tZUJXmHUmZDl",
        "outputId": "e3da6a92-7d2d-44eb-a86f-075d9ec5f393"
      },
      "execution_count": 8,
      "outputs": [
        {
          "output_type": "stream",
          "name": "stdout",
          "text": [
            "SAT\n",
            "[1, -2, 3, -4, 5, -6, -7, 8, -9, -10, -11]\n"
          ]
        }
      ]
    },
    {
      "cell_type": "markdown",
      "source": [
        "Resposta: Sim"
      ],
      "metadata": {
        "id": "T6aGzlg5FXW-"
      }
    },
    {
      "cell_type": "markdown",
      "source": [
        "(c) É possivel combinar a motherboard MB2, a placa gráfica PG3 e a RAM1\n",
        "num mesmo computador?\n",
        "\n",
        "```\n",
        "MB2 ∧ PG3 ∧ RAM1\n",
        "```\n",
        "```\n",
        "2 0\n",
        "9 0\n",
        "5 0\n",
        "```"
      ],
      "metadata": {
        "id": "rmPMJB547RAe"
      }
    },
    {
      "cell_type": "code",
      "source": [
        "sat(formulas + [[2], [9], [5]])"
      ],
      "metadata": {
        "colab": {
          "base_uri": "https://localhost:8080/"
        },
        "id": "hcusp48bmg7G",
        "outputId": "e43b2995-0ac4-462e-8ea4-5603770a9836"
      },
      "execution_count": 9,
      "outputs": [
        {
          "output_type": "stream",
          "name": "stdout",
          "text": [
            "SAT\n",
            "[-1, 2, 3, -4, 5, -6, -7, -8, 9, -10, -11]\n"
          ]
        }
      ]
    },
    {
      "cell_type": "markdown",
      "source": [
        "Resposta: Sim"
      ],
      "metadata": {
        "id": "KaUlKONQFffI"
      }
    },
    {
      "cell_type": "markdown",
      "source": [
        "(d) Para combinarmos a placa gráfica PG2 e a RAM1 temos que usar o CPU2?\n",
        "\n",
        "```\n",
        "(PG2 ∧ RAM1) → CPU2 ≡\n",
        "≡ ¬(PG2 ∧ RAM1) ∨ CPU2 ≡\n",
        "≡ ¬(¬(PG2 ∧ RAM1) ∨ CPU2) ≡\n",
        "≡ (PG2 ∧ RAM1) ∧ ¬CPU2 ≡\n",
        "≡ PG2 ∧ RAM1 ∧ ¬CPU2\n",
        "```\n",
        "```\n",
        "8 0\n",
        "5 0\n",
        "-4 0\n",
        "```"
      ],
      "metadata": {
        "id": "elG_cvAkS350"
      }
    },
    {
      "cell_type": "code",
      "source": [
        "sat(formulas + [[8], [5], [-4]])"
      ],
      "metadata": {
        "colab": {
          "base_uri": "https://localhost:8080/"
        },
        "id": "v60znSwMml4w",
        "outputId": "2889ec6e-db8b-404b-f49f-a0924735c0fe"
      },
      "execution_count": 10,
      "outputs": [
        {
          "output_type": "stream",
          "name": "stdout",
          "text": [
            "SAT\n",
            "[1, -2, 3, -4, 5, -6, -7, 8, -9, -10, -11]\n"
          ]
        }
      ]
    },
    {
      "cell_type": "markdown",
      "source": [
        "Resposta: Sim"
      ],
      "metadata": {
        "id": "WvVOlUivFiXq"
      }
    }
  ]
}